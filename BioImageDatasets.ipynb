{
  "nbformat": 4,
  "nbformat_minor": 0,
  "metadata": {
    "colab": {
      "provenance": [],
      "authorship_tag": "ABX9TyNtmgO8zDBRv371ywUkPodq",
      "include_colab_link": true
    },
    "kernelspec": {
      "name": "python3",
      "display_name": "Python 3"
    },
    "language_info": {
      "name": "python"
    }
  },
  "cells": [
    {
      "cell_type": "markdown",
      "metadata": {
        "id": "view-in-github",
        "colab_type": "text"
      },
      "source": [
        "<a href=\"https://colab.research.google.com/github/JuanZapa7a/covid-19/blob/master/BioImageDatasets.ipynb\" target=\"_parent\"><img src=\"https://colab.research.google.com/assets/colab-badge.svg\" alt=\"Open In Colab\"/></a>"
      ]
    },
    {
      "cell_type": "markdown",
      "source": [
        "Sí, existen varias bases de datos públicas de imágenes médicas que están disponibles para la comunidad de investigación y el público en general. Algunas de las bases de datos de imágenes médicas públicas más conocidas incluyen:\n",
        "\n",
        "1. [**DICOM Image Library:**](https://www.dicomlibrary.com/) Esta biblioteca contiene una amplia variedad de imágenes médicas en formato DICOM (Digital Imaging and Communications in Medicine). Puedes encontrar una variedad de imágenes de resonancia magnética (MRI), tomografías computarizadas (CT), radiografías y otros tipos de imágenes médicas.\n",
        "\n",
        "2. [**The Cancer Imaging Archive (TCIA):**](https://dev.cancerimagingarchive.net/) TCIA es una extensa colección de imágenes médicas relacionadas con el cáncer. Contiene imágenes de diferentes tipos de cáncer, como tumores sólidos y hematológicos.\n",
        "\n",
        "3. [**ImageNet:**](https://www.image-net.org/) Aunque ImageNet es conocida principalmente como una base de datos de imágenes para la clasificación de objetos en general, también contiene una sección dedicada a imágenes médicas. Puedes buscar imágenes relacionadas con diversas condiciones médicas.\n",
        "\n",
        "4. [**Open Access Biomedical Image Search Engine (Openi):**](https://libraries.usc.edu/databases/open-i-open-access-biomedical-image-search-engine) Openi es una herramienta de búsqueda que permite acceder a una amplia variedad de imágenes médicas y sus metadatos. Puedes buscar imágenes basadas en palabras clave médicas específicas.\n",
        "\n",
        "5. [**National Library of Medicine (NLM) Images from the History of Medicine:**](https://www.nlm.nih.gov/hmd/ihm/index.html) Esta colección ofrece imágenes históricas relacionadas con la medicina y la salud. Si estás interesado en la historia de la medicina, esta es una fuente interesante.\n",
        "\n",
        "6. [**Radiological Society of North America (RSNA) Radiology Cases Database:**](https://cases.rsna.org/) Esta base de datos contiene una colección de casos radiológicos, que incluye imágenes de radiografías, tomografías computarizadas, resonancias magnéticas y ultrasonidos.\n",
        "\n",
        "Recuerda siempre revisar los términos de uso y las restricciones de cada base de datos antes de utilizar las imágenes con fines de investigación o cualquier otro propósito, ya que pueden variar. Además, ten en cuenta la confidencialidad de los pacientes y la ética al utilizar imágenes médicas en tu investigación o trabajo.\n",
        "\n",
        "[Kaggle](https://www.kaggle.com/) es una plataforma popular para la ciencia de datos y la inteligencia artificial, y también ofrece varias bases de datos de imágenes médicas públicas a través de su comunidad de datos. Algunas de las bases de datos de imágenes médicas disponibles en Kaggle incluyen:\n",
        "\n",
        "1. [**SIIM-ACR Pneumothorax Detection:**](https://github.com/sneddy/pneumothorax-segmentation) Esta competencia en Kaggle ofrece un conjunto de datos de imágenes médicas de rayos X de tórax para la detección de neumotórax. Puedes acceder a imágenes de rayos X etiquetadas para entrenar y evaluar modelos de detección de neumotórax.\n",
        "\n",
        "2. [**Data Science Bowl 2017 - Detección de Cáncer de Pulmón:**](https://github.com/owkin/DSB2017) Este conjunto de datos de Kaggle se centra en la detección de cáncer de pulmón en imágenes de tomografía computarizada de tórax. Incluye miles de imágenes médicas para la detección de nódulos cancerosos.\n",
        "\n",
        "3. [**Malaria Cell Images Dataset:**](https://www.kaggle.com/datasets/iarunava/cell-images-for-detecting-malaria) Este conjunto de datos contiene imágenes de células sanguíneas infectadas y no infectadas con el parásito de la malaria. Es útil para la detección automatizada de la malaria en imágenes de microscopía.\n",
        "\n",
        "4. [**RSNA Intracranial Hemorrhage Detection:**](https://www.rsna.org/education/ai-resources-and-training/ai-image-challenge/rsna-intracranial-hemorrhage-detection-challenge-2019) Este conjunto de datos de Kaggle contiene imágenes de tomografía computarizada del cerebro para la detección de hemorragias intracraneales. Fue parte de una competencia en Kaggle.\n",
        "\n",
        "5. [**Retinopathy of Prematurity (ROP) Detection:**](https://github.com/whu-eyelab/Rop_) Este conjunto de datos se enfoca en la detección de retinopatía de la prematuridad en imágenes de la retina de bebés prematuros. Proporciona imágenes etiquetadas para tareas de clasificación.\n",
        "\n",
        "Estos son solo algunos ejemplos de conjuntos de datos de imágenes médicas disponibles en Kaggle. Puedes buscar más conjuntos de datos relacionados con la medicina y la salud en la plataforma utilizando palabras clave específicas, como \"medical image,\" \"radiology,\" \"MRI,\" \"CT scan,\" y otras relacionadas. Además, en Kaggle, a menudo encontrarás competencias relacionadas con imágenes médicas que proporcionan conjuntos de datos y desafíos específicos en este campo.\n",
        "\n",
        "Sí, además de Kaggle, hay varias otras plataformas y recursos en línea donde puedes encontrar conjuntos de datos de imágenes médicas. Algunas de estas plataformas y fuentes incluyen:\n",
        "\n",
        "1. [**Grand Challenge Competitions:**](https://grand-challenge.org/) Varios sitios web, como Grand Challenge (grand-challenge.org), alojan competencias y proporcionan conjuntos de datos de imágenes médicas para una variedad de tareas, como segmentación, detección y clasificación de enfermedades.\n",
        "\n",
        "2. [**NIH Clinical Center: Image Library:**](https://clinicalcenter.nih.gov/dcri/imaginglibrary.html) El Centro Clinico del Instituto Nacional de la Salud (NIH) ofrece una amplia colección de imágenes médicas de acceso público, que incluye imágenes de radiología, patología, y otras disciplinas médicas.\n",
        "\n",
        "3. [**European Data Format (EDF):**](https://www.edfplus.info/) Si estás interesado en señales médicas, como electroencefalografía (EEG) o electrocardiografía (ECG), el EDF ofrece una colección de datos en formato EDF para su análisis.\n",
        "\n",
        "4. [** GitHub: Medical imaging datasets**](https://github.com/sfikas/medical-imaging-datasets) Extensivo listado de diferentes databases de imagenes medicas.\n",
        "\n",
        "5. [** Github: Deep learning for Medical Applications **](https://github.com/albarqouni/Deep-Learning-for-Medical-Applications). Otro extenso listado de papers (y databases de referencia)\n"
      ],
      "metadata": {
        "id": "xQlk9uENG97w"
      }
    }
  ]
}