{
  "nbformat": 4,
  "nbformat_minor": 0,
  "metadata": {
    "colab": {
      "provenance": [],
      "authorship_tag": "ABX9TyNOyQx73YVu/P4uOMhhKh4L",
      "include_colab_link": true
    },
    "kernelspec": {
      "name": "python3",
      "display_name": "Python 3"
    },
    "language_info": {
      "name": "python"
    }
  },
  "cells": [
    {
      "cell_type": "markdown",
      "metadata": {
        "id": "view-in-github",
        "colab_type": "text"
      },
      "source": [
        "<a href=\"https://colab.research.google.com/github/JuanZapa7a/covid-19/blob/master/Roboflow.ipynb\" target=\"_parent\"><img src=\"https://colab.research.google.com/assets/colab-badge.svg\" alt=\"Open In Colab\"/></a>"
      ]
    },
    {
      "cell_type": "markdown",
      "source": [
        "# Google Colab Notebook para Roboflow\n",
        "\n",
        "# 1. Introducción a Roboflow\n",
        "\"\"\"\n",
        "Explicación de qué es Roboflow y para qué se utiliza.\n",
        "\"\"\"\n",
        "\n",
        "# 2. Creación de una cuenta en Roboflow\n",
        "\"\"\"\n",
        "Instrucciones paso a paso sobre cómo crear una cuenta en Roboflow.\n",
        "\"\"\"\n",
        "\n",
        "# 3. Inicio de sesión en Roboflow\n",
        "\"\"\"\n",
        "Código para iniciar sesión en Roboflow utilizando la API.\n",
        "\"\"\"\n",
        "\n",
        "# 4. Uso de una base de datos del universo Roboflow\n",
        "\"\"\"\n",
        "Explicación de cómo buscar y seleccionar una base de datos del universo Roboflow.\n",
        "Código para cargar la base de datos seleccionada.\n",
        "\"\"\"\n",
        "\n",
        "# 5. Anotación de la base de datos para la clasificación\n",
        "\"\"\"\n",
        "Explicación de cómo se anotan los datos en Roboflow.\n",
        "Código para anotar la base de datos cargada.\n",
        "\"\"\"\n",
        "\n",
        "# 6. Conclusión\n",
        "\"\"\"\n",
        "Resumen de lo que se ha cubierto en el notebook y los próximos pasos.\n",
        "\"\"\"\n"
      ],
      "metadata": {
        "id": "twWiA_Em13mj"
      }
    },
    {
      "cell_type": "markdown",
      "source": [
        "# 1. Introduction to [Roboflow](https://docs.roboflow.com/api-reference/introduction)\n",
        "\n",
        "Roboflow is a platform that simplifies the process of building machine learning models. It provides tools for data management, annotation, preprocessing, model augmentation and deployment. Roboflow is popular among developers, with over 100,000 developers having built with Roboflow tools[^1^][1][^2^][2]. Despite its popularity, there are alternatives to Roboflow, such as INTSIG, SuperAnnotate, Google Cloud Vision API and Encord[^3^][4].\n",
        "\n",
        "## Limitations of the free version of Roboflow:\n",
        "\n",
        "The free version of Roboflow allows up to 3 users. Up to 10,000 source images can be managed. 3 training credits are provided. 1,000 inference credits are awarded per month. Projects, including datasets, are open source to contribute to the community.\n",
        "\n",
        "## Roboflow integration with Google Colab:\n",
        "\n",
        "Roboflow integrates well with Google Colab. In fact, Roboflow has produced dozens of workbooks showing how to train computer vision models in Google Colab345 . These workbooks are step-by-step guides on how to train models and perform other computer vision tasks.\n",
        "\n"
      ],
      "metadata": {
        "id": "03T45nGa2flV"
      }
    },
    {
      "cell_type": "code",
      "source": [
        "# Paso 1: Instalación de Roboflow CLI\n",
        "!pip install roboflow\n",
        "\n",
        "# Paso 2: Importar las bibliotecas necesarias\n",
        "import os\n",
        "import roboflow\n",
        "\n",
        "# Paso 3: Iniciar sesión en Roboflow\n",
        "rf = roboflow.Roboflow(api_key=\"5xvhWbT7GJjHZvn6ukFk\")\n"
      ],
      "metadata": {
        "colab": {
          "base_uri": "https://localhost:8080/"
        },
        "id": "5bMj9y3sAmKY",
        "outputId": "6f8a3184-2652-44c5-848f-ef4478f9f97c"
      },
      "execution_count": 4,
      "outputs": [
        {
          "output_type": "stream",
          "name": "stdout",
          "text": [
            "Requirement already satisfied: roboflow in /usr/local/lib/python3.10/dist-packages (1.1.26)\n",
            "Requirement already satisfied: certifi==2023.7.22 in /usr/local/lib/python3.10/dist-packages (from roboflow) (2023.7.22)\n",
            "Requirement already satisfied: chardet==4.0.0 in /usr/local/lib/python3.10/dist-packages (from roboflow) (4.0.0)\n",
            "Requirement already satisfied: cycler==0.10.0 in /usr/local/lib/python3.10/dist-packages (from roboflow) (0.10.0)\n",
            "Requirement already satisfied: idna==2.10 in /usr/local/lib/python3.10/dist-packages (from roboflow) (2.10)\n",
            "Requirement already satisfied: kiwisolver>=1.3.1 in /usr/local/lib/python3.10/dist-packages (from roboflow) (1.4.5)\n",
            "Requirement already satisfied: matplotlib in /usr/local/lib/python3.10/dist-packages (from roboflow) (3.7.1)\n",
            "Requirement already satisfied: numpy>=1.18.5 in /usr/local/lib/python3.10/dist-packages (from roboflow) (1.25.2)\n",
            "Requirement already satisfied: opencv-python-headless==4.8.0.74 in /usr/local/lib/python3.10/dist-packages (from roboflow) (4.8.0.74)\n",
            "Requirement already satisfied: Pillow>=7.1.2 in /usr/local/lib/python3.10/dist-packages (from roboflow) (9.4.0)\n",
            "Requirement already satisfied: python-dateutil in /usr/local/lib/python3.10/dist-packages (from roboflow) (2.8.2)\n",
            "Requirement already satisfied: python-dotenv in /usr/local/lib/python3.10/dist-packages (from roboflow) (1.0.1)\n",
            "Requirement already satisfied: requests in /usr/local/lib/python3.10/dist-packages (from roboflow) (2.31.0)\n",
            "Requirement already satisfied: six in /usr/local/lib/python3.10/dist-packages (from roboflow) (1.16.0)\n",
            "Requirement already satisfied: urllib3>=1.26.6 in /usr/local/lib/python3.10/dist-packages (from roboflow) (2.0.7)\n",
            "Requirement already satisfied: tqdm>=4.41.0 in /usr/local/lib/python3.10/dist-packages (from roboflow) (4.66.2)\n",
            "Requirement already satisfied: PyYAML>=5.3.1 in /usr/local/lib/python3.10/dist-packages (from roboflow) (6.0.1)\n",
            "Requirement already satisfied: requests-toolbelt in /usr/local/lib/python3.10/dist-packages (from roboflow) (1.0.0)\n",
            "Requirement already satisfied: python-magic in /usr/local/lib/python3.10/dist-packages (from roboflow) (0.4.27)\n",
            "Requirement already satisfied: contourpy>=1.0.1 in /usr/local/lib/python3.10/dist-packages (from matplotlib->roboflow) (1.2.1)\n",
            "Requirement already satisfied: fonttools>=4.22.0 in /usr/local/lib/python3.10/dist-packages (from matplotlib->roboflow) (4.50.0)\n",
            "Requirement already satisfied: packaging>=20.0 in /usr/local/lib/python3.10/dist-packages (from matplotlib->roboflow) (24.0)\n",
            "Requirement already satisfied: pyparsing>=2.3.1 in /usr/local/lib/python3.10/dist-packages (from matplotlib->roboflow) (3.1.2)\n",
            "Requirement already satisfied: charset-normalizer<4,>=2 in /usr/local/lib/python3.10/dist-packages (from requests->roboflow) (3.3.2)\n"
          ]
        }
      ]
    },
    {
      "cell_type": "markdown",
      "source": [
        "## Adding Data\n",
        "\n",
        "To get started, [create a free Roboflow account](https://app.roboflow.com/?ref=blog.roboflow.com).\n",
        "\n",
        "After reviewing and accepting the terms of service, you will be asked to choose between one of two plans: the Public Plan and the Starter Plan.\n",
        "\n",
        "![image.png](https://blog.roboflow.com/content/images/size/w1000/2024/02/Screenshot-2024-02-12-at-09.31.24.png)\n",
        "\n",
        "Then, you will be asked to invite collaborators to your workspace. These collaborators can help you annotate images or manage the vision projects in your workspace.\n",
        "\n",
        "Once you have invited people to your workspace (if you want to), you will be able to create a project.\n",
        "\n",
        "![image.png](https://blog.roboflow.com/content/images/size/w1000/2024/02/Screenshot-2024-02-12-at-10.02.25.png)\n",
        "\n",
        "For this example, we will be using a dataset of screws to train a model that can identify screws in a kit. This model could be used for quality assurance in a manufacturing facility. With that said, you can use any images you want to train a model.\n",
        "\n",
        "Leave the project type as the default \"Object Detection\" option since our model will be identifying specific objects and we want to know their location within the image.\n",
        "\n",
        "Click “Create Project.” to continue.\n",
        "\n",
        "For this walkthrough, we’ll use a Roboflow provided sample cell dataset. [Download the cell dataset](https://universe.roboflow.com/search?q=object%20detection%20cells).\n",
        "\n",
        "Once you have downloaded the dataset, unzip the file. Click and drag the folder called screw-dataset from your local machine onto the highlighted upload area. This dataset is structured in the COCO JSON format, [one of 40+ computer vision formats Roboflow supports](https://roboflow.com/formats?ref=blog.roboflow.com).\n",
        "\n",
        "Once you drop the screw-dataset folder into Roboflow, the images and annotations are processed for you to see them overlayed.\n",
        "\n",
        "\n"
      ],
      "metadata": {
        "id": "m1S1ydKEInCg"
      }
    }
  ]
}