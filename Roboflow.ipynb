{
  "nbformat": 4,
  "nbformat_minor": 0,
  "metadata": {
    "colab": {
      "provenance": [],
      "authorship_tag": "ABX9TyNPQhoGzML4FTNRGzx9oyJc",
      "include_colab_link": true
    },
    "kernelspec": {
      "name": "python3",
      "display_name": "Python 3"
    },
    "language_info": {
      "name": "python"
    }
  },
  "cells": [
    {
      "cell_type": "markdown",
      "metadata": {
        "id": "view-in-github",
        "colab_type": "text"
      },
      "source": [
        "<a href=\"https://colab.research.google.com/github/JuanZapa7a/covid-19/blob/master/Roboflow.ipynb\" target=\"_parent\"><img src=\"https://colab.research.google.com/assets/colab-badge.svg\" alt=\"Open In Colab\"/></a>"
      ]
    },
    {
      "cell_type": "markdown",
      "source": [
        "# Google Colab Notebook para Roboflow\n",
        "\n",
        "# 1. Introducción a Roboflow\n",
        "\"\"\"\n",
        "Explicación de qué es Roboflow y para qué se utiliza.\n",
        "\"\"\"\n",
        "\n",
        "# 2. Creación de una cuenta en Roboflow\n",
        "\"\"\"\n",
        "Instrucciones paso a paso sobre cómo crear una cuenta en Roboflow.\n",
        "\"\"\"\n",
        "\n",
        "# 3. Inicio de sesión en Roboflow\n",
        "\"\"\"\n",
        "Código para iniciar sesión en Roboflow utilizando la API.\n",
        "\"\"\"\n",
        "\n",
        "# 4. Uso de una base de datos del universo Roboflow\n",
        "\"\"\"\n",
        "Explicación de cómo buscar y seleccionar una base de datos del universo Roboflow.\n",
        "Código para cargar la base de datos seleccionada.\n",
        "\"\"\"\n",
        "\n",
        "# 5. Anotación de la base de datos para la clasificación\n",
        "\"\"\"\n",
        "Explicación de cómo se anotan los datos en Roboflow.\n",
        "Código para anotar la base de datos cargada.\n",
        "\"\"\"\n",
        "\n",
        "# 6. Conclusión\n",
        "\"\"\"\n",
        "Resumen de lo que se ha cubierto en el notebook y los próximos pasos.\n",
        "\"\"\"\n"
      ],
      "metadata": {
        "id": "twWiA_Em13mj"
      }
    },
    {
      "cell_type": "markdown",
      "source": [
        "# 1. Introducción a Roboflow\n",
        "\n",
        "ESPAÑOL:\n",
        "Roboflow es una plataforma que simplifica el proceso de construcción de modelos de aprendizaje automático. Proporciona herramientas para la gestión de datos, anotación, preprocesamiento, aumento y despliegue de modelos. Roboflow es popular entre los desarrolladores, con más de 100,000 desarrolladores que han construido con las herramientas de Roboflow[^1^][1][^2^][2]. A pesar de su popularidad, existen alternativas a Roboflow, como INTSIG, SuperAnnotate, Google Cloud Vision API y Encord[^3^][4].\n",
        "\n",
        "Limitaciones de la versión gratuita de Roboflow:\n",
        "\n",
        "La versión gratuita de Roboflow permite hasta 3 usuarios1.\n",
        "Se pueden manejar hasta 10,000 imágenes de origen12.\n",
        "Se proporcionan 3 créditos de entrenamiento1.\n",
        "Se otorgan 1,000 créditos de inferencia al mes1.\n",
        "Los proyectos, incluyendo los conjuntos de datos, son de código abierto para contribuir a la comunidad1.\n",
        "Integración de Roboflow con Google Colab: Roboflow se integra bien con Google Colab. De hecho, Roboflow ha producido docenas de cuadernos que muestran cómo entrenar modelos de visión por computadora en Google Colab345. Estos cuadernos son guías paso a paso sobre cómo entrenar modelos y realizar otras tareas de visión por computadora.\n",
        "\n",
        "ENGLISH:\n",
        "Roboflow is a platform that simplifies the process of building machine learning models. It provides tools for data management, annotation, preprocessing, augmentation, and model deployment. Roboflow is popular among developers, with over 100,000 developers having built with Roboflow's tools[^1^][1][^2^][2]. Despite its popularity, there are alternatives to Roboflow, such as INTSIG, SuperAnnotate, Google Cloud Vision API, and Encord[^3^][4].\n",
        "\n"
      ],
      "metadata": {
        "id": "03T45nGa2flV"
      }
    },
    {
      "cell_type": "code",
      "source": [
        "# Paso 1: Instalación de Roboflow CLI\n",
        "!pip install roboflow\n",
        "\n",
        "# Paso 2: Importar las bibliotecas necesarias\n",
        "import os\n",
        "import roboflow\n",
        "\n",
        "# Paso 3: Iniciar sesión en Roboflow\n",
        "rf = roboflow.Roboflow(api_key=\"5xvhWbT7GJjHZvn6ukFk\")\n",
        "\n",
        "# Paso 4: Listar las bases de datos disponibles en Roboflow\n",
        "databases = rf.datasets.list()\n",
        "print(\"Bases de datos disponibles en Roboflow:\")\n",
        "for db in databases:\n",
        "    print(db['name'])\n",
        "\n",
        "# Paso 5: Seleccionar una base de datos y descargarla\n",
        "database_name = \"nombre_de_la_base_de_datos\"  # Ingresa el nombre de la base de datos que deseas utilizar\n",
        "database_dir = \"./data\"  # Directorio donde se almacenará la base de datos descargada\n",
        "os.makedirs(database_dir, exist_ok=True)\n",
        "rf.download_dataset(database_name, database_dir)\n",
        "\n",
        "# Paso 6: Anotar la base de datos descargada (opcional, dependiendo de si la base de datos ya está anotada o no)\n",
        "# Aquí puedes explicar cómo anotar la base de datos utilizando la interfaz de Roboflow\n",
        "\n",
        "# Paso 7: Ejemplo de carga de imágenes y visualización de etiquetas (opcional)\n",
        "# Aquí puedes mostrar cómo cargar imágenes desde la base de datos y visualizar las etiquetas asociadas\n",
        "\n",
        "# Paso 8: Guardar la base de datos anotada (si es necesario)\n",
        "# Aquí puedes explicar cómo guardar la base de datos anotada utilizando la interfaz de Roboflow\n",
        "\n",
        "# Paso 9: Conclusión y recursos adicionales\n",
        "\n"
      ],
      "metadata": {
        "colab": {
          "base_uri": "https://localhost:8080/",
          "height": 1000
        },
        "id": "5bMj9y3sAmKY",
        "outputId": "de20654d-df03-4d11-e541-0fd4e3531853"
      },
      "execution_count": 1,
      "outputs": [
        {
          "output_type": "stream",
          "name": "stdout",
          "text": [
            "Collecting roboflow\n",
            "  Downloading roboflow-1.1.26-py3-none-any.whl (71 kB)\n",
            "\u001b[2K     \u001b[90m━━━━━━━━━━━━━━━━━━━━━━━━━━━━━━━━━━━━━━━━\u001b[0m \u001b[32m72.0/72.0 kB\u001b[0m \u001b[31m993.2 kB/s\u001b[0m eta \u001b[36m0:00:00\u001b[0m\n",
            "\u001b[?25hCollecting certifi==2023.7.22 (from roboflow)\n",
            "  Downloading certifi-2023.7.22-py3-none-any.whl (158 kB)\n",
            "\u001b[2K     \u001b[90m━━━━━━━━━━━━━━━━━━━━━━━━━━━━━━━━━━━━━━━━\u001b[0m \u001b[32m158.3/158.3 kB\u001b[0m \u001b[31m2.9 MB/s\u001b[0m eta \u001b[36m0:00:00\u001b[0m\n",
            "\u001b[?25hCollecting chardet==4.0.0 (from roboflow)\n",
            "  Downloading chardet-4.0.0-py2.py3-none-any.whl (178 kB)\n",
            "\u001b[2K     \u001b[90m━━━━━━━━━━━━━━━━━━━━━━━━━━━━━━━━━━━━━━━━\u001b[0m \u001b[32m178.7/178.7 kB\u001b[0m \u001b[31m10.7 MB/s\u001b[0m eta \u001b[36m0:00:00\u001b[0m\n",
            "\u001b[?25hCollecting cycler==0.10.0 (from roboflow)\n",
            "  Downloading cycler-0.10.0-py2.py3-none-any.whl (6.5 kB)\n",
            "Collecting idna==2.10 (from roboflow)\n",
            "  Downloading idna-2.10-py2.py3-none-any.whl (58 kB)\n",
            "\u001b[2K     \u001b[90m━━━━━━━━━━━━━━━━━━━━━━━━━━━━━━━━━━━━━━━━\u001b[0m \u001b[32m58.8/58.8 kB\u001b[0m \u001b[31m4.9 MB/s\u001b[0m eta \u001b[36m0:00:00\u001b[0m\n",
            "\u001b[?25hRequirement already satisfied: kiwisolver>=1.3.1 in /usr/local/lib/python3.10/dist-packages (from roboflow) (1.4.5)\n",
            "Requirement already satisfied: matplotlib in /usr/local/lib/python3.10/dist-packages (from roboflow) (3.7.1)\n",
            "Requirement already satisfied: numpy>=1.18.5 in /usr/local/lib/python3.10/dist-packages (from roboflow) (1.25.2)\n",
            "Collecting opencv-python-headless==4.8.0.74 (from roboflow)\n",
            "  Downloading opencv_python_headless-4.8.0.74-cp37-abi3-manylinux_2_17_x86_64.manylinux2014_x86_64.whl (49.1 MB)\n",
            "\u001b[2K     \u001b[90m━━━━━━━━━━━━━━━━━━━━━━━━━━━━━━━━━━━━━━━━\u001b[0m \u001b[32m49.1/49.1 MB\u001b[0m \u001b[31m13.2 MB/s\u001b[0m eta \u001b[36m0:00:00\u001b[0m\n",
            "\u001b[?25hRequirement already satisfied: Pillow>=7.1.2 in /usr/local/lib/python3.10/dist-packages (from roboflow) (9.4.0)\n",
            "Requirement already satisfied: python-dateutil in /usr/local/lib/python3.10/dist-packages (from roboflow) (2.8.2)\n",
            "Collecting python-dotenv (from roboflow)\n",
            "  Downloading python_dotenv-1.0.1-py3-none-any.whl (19 kB)\n",
            "Requirement already satisfied: requests in /usr/local/lib/python3.10/dist-packages (from roboflow) (2.31.0)\n",
            "Requirement already satisfied: six in /usr/local/lib/python3.10/dist-packages (from roboflow) (1.16.0)\n",
            "Requirement already satisfied: urllib3>=1.26.6 in /usr/local/lib/python3.10/dist-packages (from roboflow) (2.0.7)\n",
            "Requirement already satisfied: tqdm>=4.41.0 in /usr/local/lib/python3.10/dist-packages (from roboflow) (4.66.2)\n",
            "Requirement already satisfied: PyYAML>=5.3.1 in /usr/local/lib/python3.10/dist-packages (from roboflow) (6.0.1)\n",
            "Collecting requests-toolbelt (from roboflow)\n",
            "  Downloading requests_toolbelt-1.0.0-py2.py3-none-any.whl (54 kB)\n",
            "\u001b[2K     \u001b[90m━━━━━━━━━━━━━━━━━━━━━━━━━━━━━━━━━━━━━━━━\u001b[0m \u001b[32m54.5/54.5 kB\u001b[0m \u001b[31m3.9 MB/s\u001b[0m eta \u001b[36m0:00:00\u001b[0m\n",
            "\u001b[?25hCollecting python-magic (from roboflow)\n",
            "  Downloading python_magic-0.4.27-py2.py3-none-any.whl (13 kB)\n",
            "Requirement already satisfied: contourpy>=1.0.1 in /usr/local/lib/python3.10/dist-packages (from matplotlib->roboflow) (1.2.1)\n",
            "Requirement already satisfied: fonttools>=4.22.0 in /usr/local/lib/python3.10/dist-packages (from matplotlib->roboflow) (4.50.0)\n",
            "Requirement already satisfied: packaging>=20.0 in /usr/local/lib/python3.10/dist-packages (from matplotlib->roboflow) (24.0)\n",
            "Requirement already satisfied: pyparsing>=2.3.1 in /usr/local/lib/python3.10/dist-packages (from matplotlib->roboflow) (3.1.2)\n",
            "Requirement already satisfied: charset-normalizer<4,>=2 in /usr/local/lib/python3.10/dist-packages (from requests->roboflow) (3.3.2)\n",
            "Installing collected packages: python-magic, python-dotenv, opencv-python-headless, idna, cycler, chardet, certifi, requests-toolbelt, roboflow\n",
            "  Attempting uninstall: opencv-python-headless\n",
            "    Found existing installation: opencv-python-headless 4.9.0.80\n",
            "    Uninstalling opencv-python-headless-4.9.0.80:\n",
            "      Successfully uninstalled opencv-python-headless-4.9.0.80\n",
            "  Attempting uninstall: idna\n",
            "    Found existing installation: idna 3.6\n",
            "    Uninstalling idna-3.6:\n",
            "      Successfully uninstalled idna-3.6\n",
            "  Attempting uninstall: cycler\n",
            "    Found existing installation: cycler 0.12.1\n",
            "    Uninstalling cycler-0.12.1:\n",
            "      Successfully uninstalled cycler-0.12.1\n",
            "  Attempting uninstall: chardet\n",
            "    Found existing installation: chardet 5.2.0\n",
            "    Uninstalling chardet-5.2.0:\n",
            "      Successfully uninstalled chardet-5.2.0\n",
            "  Attempting uninstall: certifi\n",
            "    Found existing installation: certifi 2024.2.2\n",
            "    Uninstalling certifi-2024.2.2:\n",
            "      Successfully uninstalled certifi-2024.2.2\n",
            "Successfully installed certifi-2023.7.22 chardet-4.0.0 cycler-0.10.0 idna-2.10 opencv-python-headless-4.8.0.74 python-dotenv-1.0.1 python-magic-0.4.27 requests-toolbelt-1.0.0 roboflow-1.1.26\n"
          ]
        },
        {
          "output_type": "display_data",
          "data": {
            "application/vnd.colab-display-data+json": {
              "pip_warning": {
                "packages": [
                  "certifi",
                  "cycler"
                ]
              },
              "id": "8d279c47886d420b8c01a035791b4eba"
            }
          },
          "metadata": {}
        },
        {
          "output_type": "error",
          "ename": "AttributeError",
          "evalue": "'Roboflow' object has no attribute 'list_datasets'",
          "traceback": [
            "\u001b[0;31m---------------------------------------------------------------------------\u001b[0m",
            "\u001b[0;31mAttributeError\u001b[0m                            Traceback (most recent call last)",
            "\u001b[0;32m<ipython-input-1-af164019f7d7>\u001b[0m in \u001b[0;36m<cell line: 12>\u001b[0;34m()\u001b[0m\n\u001b[1;32m     10\u001b[0m \u001b[0;34m\u001b[0m\u001b[0m\n\u001b[1;32m     11\u001b[0m \u001b[0;31m# Paso 4: Listar las bases de datos disponibles en Roboflow\u001b[0m\u001b[0;34m\u001b[0m\u001b[0;34m\u001b[0m\u001b[0m\n\u001b[0;32m---> 12\u001b[0;31m \u001b[0mdatabases\u001b[0m \u001b[0;34m=\u001b[0m \u001b[0mrf\u001b[0m\u001b[0;34m.\u001b[0m\u001b[0mlist_datasets\u001b[0m\u001b[0;34m(\u001b[0m\u001b[0;34m)\u001b[0m\u001b[0;34m\u001b[0m\u001b[0;34m\u001b[0m\u001b[0m\n\u001b[0m\u001b[1;32m     13\u001b[0m \u001b[0mprint\u001b[0m\u001b[0;34m(\u001b[0m\u001b[0;34m\"Bases de datos disponibles en Roboflow:\"\u001b[0m\u001b[0;34m)\u001b[0m\u001b[0;34m\u001b[0m\u001b[0;34m\u001b[0m\u001b[0m\n\u001b[1;32m     14\u001b[0m \u001b[0;32mfor\u001b[0m \u001b[0mdb\u001b[0m \u001b[0;32min\u001b[0m \u001b[0mdatabases\u001b[0m\u001b[0;34m:\u001b[0m\u001b[0;34m\u001b[0m\u001b[0;34m\u001b[0m\u001b[0m\n",
            "\u001b[0;31mAttributeError\u001b[0m: 'Roboflow' object has no attribute 'list_datasets'"
          ]
        }
      ]
    }
  ]
}