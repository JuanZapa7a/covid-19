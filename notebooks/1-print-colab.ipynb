{
  "cells": [
    {
      "cell_type": "markdown",
      "metadata": {
        "id": "ae144cd2-2b6c-4d05-9c68-7ac7d3f84c8c"
      },
      "source": [
        "# Printing from Colab\n",
        "\n",
        "*Fraida Fund*"
      ],
      "id": "ae144cd2-2b6c-4d05-9c68-7ac7d3f84c8c"
    },
    {
      "cell_type": "markdown",
      "metadata": {
        "id": "737b7bf9-85fa-4974-9151-3474409e4d8c"
      },
      "source": [
        "To submit homework assignments, you will need to generate PDF versions of your completed Colab notebooks.\n",
        "\n",
        "Printing to a PDF from Colab seems easy - there’s a File \\> Print option in the menu! However, the built-in print option won’t always work well for us, because if a plot or other output happens to come out near a page break, it can get cut off."
      ],
      "id": "737b7bf9-85fa-4974-9151-3474409e4d8c"
    },
    {
      "cell_type": "markdown",
      "metadata": {
        "id": "cce1c197-6b50-44a9-b626-ec8b75ccdf90"
      },
      "source": [
        "As an alternative to Colab’s built-in print, you can use this notebook to generate a PDF version of any Colab notebook that is saved in your Google Drive."
      ],
      "id": "cce1c197-6b50-44a9-b626-ec8b75ccdf90"
    },
    {
      "cell_type": "markdown",
      "metadata": {
        "id": "189c2345-a348-4181-bbc0-2bdb8df05df2"
      },
      "source": [
        "## Step 1: Prepare the source notebook\n",
        "\n",
        "Make sure the notebook that you want to print is ready:\n",
        "\n",
        "-   you ran the cells in the notebook (in order!) and their output is visible in the notebook\n",
        "-   it is saved in your Google Drive"
      ],
      "id": "189c2345-a348-4181-bbc0-2bdb8df05df2"
    },
    {
      "cell_type": "markdown",
      "metadata": {
        "id": "105a0864-c2aa-4d56-a067-ed44f3f63d06"
      },
      "source": [
        "## Step 2: Install software and libraries\n",
        "\n",
        "In *this* notebook, run the following cell:"
      ],
      "id": "105a0864-c2aa-4d56-a067-ed44f3f63d06"
    },
    {
      "cell_type": "code",
      "execution_count": null,
      "metadata": {
        "id": "a84e9b82-7988-4c1d-99a2-08c0357a2ae5"
      },
      "outputs": [],
      "source": [
        "!apt-get update\n",
        "!apt-get install texlive texlive-xetex texlive-latex-extra pandoc\n",
        "!pip install pypandoc"
      ],
      "id": "a84e9b82-7988-4c1d-99a2-08c0357a2ae5"
    },
    {
      "cell_type": "markdown",
      "metadata": {
        "id": "3d500ba4-ac39-453c-94e2-b64927ff733b"
      },
      "source": [
        "## Step 3: Mount your Google Drive\n",
        "\n",
        "In *this* notebook, mount your Google Drive:"
      ],
      "id": "3d500ba4-ac39-453c-94e2-b64927ff733b"
    },
    {
      "cell_type": "code",
      "execution_count": null,
      "metadata": {
        "id": "502e530b-1c6b-4752-8325-734411d6f487"
      },
      "outputs": [],
      "source": [
        "from google.colab import drive\n",
        "drive.mount('/content/drive')"
      ],
      "id": "502e530b-1c6b-4752-8325-734411d6f487"
    },
    {
      "cell_type": "markdown",
      "metadata": {
        "id": "cdfd7027-4125-4018-a4bc-dbce309a50fd"
      },
      "source": [
        "## Step 4: Select notebook and convert to PDF\n",
        "\n",
        "In *both* of the following cells, change the name “Untitled” to whatever your notebook is named. Then, run the cells."
      ],
      "id": "cdfd7027-4125-4018-a4bc-dbce309a50fd"
    },
    {
      "cell_type": "code",
      "execution_count": null,
      "metadata": {
        "id": "7a810845-9125-48d3-a819-b1cdb1e15399"
      },
      "outputs": [],
      "source": [
        "!jupyter nbconvert --output-dir='/content' --to latex  '/content/drive/My Drive/Colab Notebooks/Untitled.ipynb'"
      ],
      "id": "7a810845-9125-48d3-a819-b1cdb1e15399"
    },
    {
      "cell_type": "code",
      "execution_count": null,
      "metadata": {
        "id": "20842593-5bef-4901-b073-316003a50aa2"
      },
      "outputs": [],
      "source": [
        "!buf_size=1000000 xelatex --interaction=nonstopmode 'Untitled.tex'"
      ],
      "id": "20842593-5bef-4901-b073-316003a50aa2"
    },
    {
      "cell_type": "markdown",
      "metadata": {
        "id": "806fad85-70be-4034-8e6a-0d154cdf0714"
      },
      "source": [
        "## Step 5: Download PDF\n",
        "\n",
        "Finally, open the Colab file browser, locate your new PDF, and download it. Review the PDF and make sure it looks good before you submit!"
      ],
      "id": "806fad85-70be-4034-8e6a-0d154cdf0714"
    }
  ],
  "nbformat": 4,
  "nbformat_minor": 5,
  "metadata": {
    "colab": {
      "provenance": []
    }
  }
}