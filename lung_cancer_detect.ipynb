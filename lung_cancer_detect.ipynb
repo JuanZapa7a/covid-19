{
  "nbformat": 4,
  "nbformat_minor": 0,
  "metadata": {
    "colab": {
      "provenance": [],
      "authorship_tag": "ABX9TyPDESj9dtJqAgGSPduhykcx",
      "include_colab_link": true
    },
    "kernelspec": {
      "name": "python3",
      "display_name": "Python 3"
    },
    "language_info": {
      "name": "python"
    }
  },
  "cells": [
    {
      "cell_type": "markdown",
      "metadata": {
        "id": "view-in-github",
        "colab_type": "text"
      },
      "source": [
        "<a href=\"https://colab.research.google.com/github/JuanZapa7a/covid-19/blob/master/lung_cancer_detect.ipynb\" target=\"_parent\"><img src=\"https://colab.research.google.com/assets/colab-badge.svg\" alt=\"Open In Colab\"/></a>"
      ]
    },
    {
      "cell_type": "markdown",
      "source": [
        "[lung-cancer-detect Image Dataset](https://universe.roboflow.com/namdp2810-gmail-com/detect-mark-ver2.0-qrrye/dataset/7)"
      ],
      "metadata": {
        "id": "fGf8OpWTb59p"
      }
    },
    {
      "cell_type": "code",
      "execution_count": null,
      "metadata": {
        "id": "TNpQ0Y6tbynB"
      },
      "outputs": [],
      "source": []
    }
  ]
}